{
 "cells": [
  {
   "cell_type": "markdown",
   "metadata": {},
   "source": [
    "# Imports"
   ]
  },
  {
   "cell_type": "code",
   "execution_count": 383,
   "metadata": {},
   "outputs": [],
   "source": [
    "import pandas as pd\n",
    "import nltk\n",
    "import string\n",
    "import seaborn as sns\n",
    "import matplotlib.pyplot as plt\n",
    "import numpy as np"
   ]
  },
  {
   "cell_type": "code",
   "execution_count": 384,
   "metadata": {},
   "outputs": [],
   "source": [
    "df=pd.read_csv('LinkedIn Job Data.csv')"
   ]
  },
  {
   "cell_type": "code",
   "execution_count": 385,
   "metadata": {
    "scrolled": false
   },
   "outputs": [
    {
     "data": {
      "text/html": [
       "<div>\n",
       "<style scoped>\n",
       "    .dataframe tbody tr th:only-of-type {\n",
       "        vertical-align: middle;\n",
       "    }\n",
       "\n",
       "    .dataframe tbody tr th {\n",
       "        vertical-align: top;\n",
       "    }\n",
       "\n",
       "    .dataframe thead th {\n",
       "        text-align: right;\n",
       "    }\n",
       "</style>\n",
       "<table border=\"1\" class=\"dataframe\">\n",
       "  <thead>\n",
       "    <tr style=\"text-align: right;\">\n",
       "      <th></th>\n",
       "      <th>Job ID</th>\n",
       "      <th>Date</th>\n",
       "      <th>Company Name</th>\n",
       "      <th>Post</th>\n",
       "      <th>Location</th>\n",
       "      <th>Description</th>\n",
       "      <th>Level</th>\n",
       "      <th>Type</th>\n",
       "      <th>Function</th>\n",
       "      <th>Industry</th>\n",
       "    </tr>\n",
       "  </thead>\n",
       "  <tbody>\n",
       "    <tr>\n",
       "      <th>5</th>\n",
       "      <td>2163179706</td>\n",
       "      <td>2020-09-15</td>\n",
       "      <td>REF- Recursos Humanos</td>\n",
       "      <td>GERENTE DE SEGURANÇA DO TRABALHO</td>\n",
       "      <td>Belo Horizonte, Minas Gerais, Brazil</td>\n",
       "      <td>ADMITE PARA SUA SEDE EM BELO HORIZONTE-MINAS G...</td>\n",
       "      <td>Associate</td>\n",
       "      <td>Full-time</td>\n",
       "      <td>OtherInformation TechnologyManagement</td>\n",
       "      <td>Information Technology and ServicesStaffing an...</td>\n",
       "    </tr>\n",
       "    <tr>\n",
       "      <th>2</th>\n",
       "      <td>2162603812</td>\n",
       "      <td>2020-09-14</td>\n",
       "      <td>Vale</td>\n",
       "      <td>ENGENHEIRO PLENO – PLANEJAMENTO – MINERAÇÃO</td>\n",
       "      <td>Nova Lima, Minas Gerais, Brazil</td>\n",
       "      <td>Atenção: é necessário anexar seu currículo no ...</td>\n",
       "      <td>Entry level</td>\n",
       "      <td>Full-time</td>\n",
       "      <td>EngineeringInformation Technology</td>\n",
       "      <td>Information Technology and ServicesStaffing an...</td>\n",
       "    </tr>\n",
       "    <tr>\n",
       "      <th>542</th>\n",
       "      <td>2016777976</td>\n",
       "      <td>2020-08-27</td>\n",
       "      <td>The Church of Jesus Christ of Latter-day Saints</td>\n",
       "      <td>Supervisor de Manutenção - Manaus</td>\n",
       "      <td>Greater Manaus</td>\n",
       "      <td>Purposes\\n\\nO departamento de Manutenção da ig...</td>\n",
       "      <td>Mid-Senior level</td>\n",
       "      <td>Full-time</td>\n",
       "      <td>ManagementManufacturing</td>\n",
       "      <td>Religious InstitutionsNonprofit Organization M...</td>\n",
       "    </tr>\n",
       "    <tr>\n",
       "      <th>290</th>\n",
       "      <td>2019651673</td>\n",
       "      <td>2020-09-03</td>\n",
       "      <td>Paula Pedrosa Headhunter &amp;amp; HR Solutions</td>\n",
       "      <td>Coordenador da Qualidade – Manaus/AM</td>\n",
       "      <td>Greater Manaus</td>\n",
       "      <td>Responsável pelos processos de manufatura;\\nIm...</td>\n",
       "      <td>Associate</td>\n",
       "      <td>Full-time</td>\n",
       "      <td>Other</td>\n",
       "      <td>Electrical/Electronic ManufacturingAviation &amp; ...</td>\n",
       "    </tr>\n",
       "    <tr>\n",
       "      <th>347</th>\n",
       "      <td>2004870905</td>\n",
       "      <td>2020-09-15</td>\n",
       "      <td>GE Aviation</td>\n",
       "      <td>Business Development Intern</td>\n",
       "      <td>Rio de Janeiro, Brazil</td>\n",
       "      <td>Role Summary:\\nAcompanhar todas as atividades ...</td>\n",
       "      <td>Internship</td>\n",
       "      <td>Full-time</td>\n",
       "      <td>EducationTraining</td>\n",
       "      <td>Airlines/AviationAviation &amp; Aerospace</td>\n",
       "    </tr>\n",
       "  </tbody>\n",
       "</table>\n",
       "</div>"
      ],
      "text/plain": [
       "         Job ID        Date                                     Company Name  \\\n",
       "5    2163179706  2020-09-15                            REF- Recursos Humanos   \n",
       "2    2162603812  2020-09-14                                             Vale   \n",
       "542  2016777976  2020-08-27  The Church of Jesus Christ of Latter-day Saints   \n",
       "290  2019651673  2020-09-03      Paula Pedrosa Headhunter &amp; HR Solutions   \n",
       "347  2004870905  2020-09-15                                      GE Aviation   \n",
       "\n",
       "                                            Post  \\\n",
       "5               GERENTE DE SEGURANÇA DO TRABALHO   \n",
       "2    ENGENHEIRO PLENO – PLANEJAMENTO – MINERAÇÃO   \n",
       "542            Supervisor de Manutenção - Manaus   \n",
       "290         Coordenador da Qualidade – Manaus/AM   \n",
       "347                  Business Development Intern   \n",
       "\n",
       "                                 Location  \\\n",
       "5    Belo Horizonte, Minas Gerais, Brazil   \n",
       "2         Nova Lima, Minas Gerais, Brazil   \n",
       "542                        Greater Manaus   \n",
       "290                        Greater Manaus   \n",
       "347                Rio de Janeiro, Brazil   \n",
       "\n",
       "                                           Description             Level  \\\n",
       "5    ADMITE PARA SUA SEDE EM BELO HORIZONTE-MINAS G...         Associate   \n",
       "2    Atenção: é necessário anexar seu currículo no ...       Entry level   \n",
       "542  Purposes\\n\\nO departamento de Manutenção da ig...  Mid-Senior level   \n",
       "290  Responsável pelos processos de manufatura;\\nIm...         Associate   \n",
       "347  Role Summary:\\nAcompanhar todas as atividades ...        Internship   \n",
       "\n",
       "          Type                               Function  \\\n",
       "5    Full-time  OtherInformation TechnologyManagement   \n",
       "2    Full-time      EngineeringInformation Technology   \n",
       "542  Full-time                ManagementManufacturing   \n",
       "290  Full-time                                  Other   \n",
       "347  Full-time                      EducationTraining   \n",
       "\n",
       "                                              Industry  \n",
       "5    Information Technology and ServicesStaffing an...  \n",
       "2    Information Technology and ServicesStaffing an...  \n",
       "542  Religious InstitutionsNonprofit Organization M...  \n",
       "290  Electrical/Electronic ManufacturingAviation & ...  \n",
       "347              Airlines/AviationAviation & Aerospace  "
      ]
     },
     "execution_count": 385,
     "metadata": {},
     "output_type": "execute_result"
    }
   ],
   "source": [
    "df.sample(5)"
   ]
  },
  {
   "cell_type": "markdown",
   "metadata": {},
   "source": [
    "# Data Featuring"
   ]
  },
  {
   "cell_type": "markdown",
   "metadata": {},
   "source": [
    "## Location"
   ]
  },
  {
   "cell_type": "code",
   "execution_count": 391,
   "metadata": {},
   "outputs": [],
   "source": [
    "df3=pd.DataFrame()"
   ]
  },
  {
   "cell_type": "code",
   "execution_count": 392,
   "metadata": {},
   "outputs": [],
   "source": [
    "def estado(location):\n",
    "    lst=location.split(',')\n",
    "    try: return lst[1].strip()\n",
    "    except IndexError: return lst[-1].strip()\n",
    "\n",
    "df3['Location']=df['Location'].apply(estado)"
   ]
  },
  {
   "cell_type": "code",
   "execution_count": 393,
   "metadata": {},
   "outputs": [],
   "source": [
    "df3['Location']=df3['Location'].str.replace('Greater Belo Horizonte','Minas Gerais') \\\n",
    ".replace('Greater Sao Paulo','São Paulo').replace('Greater Salvador','Nordeste') \\\n",
    ".replace('Greater Curitiba','Sul').replace('Greater Manaus','Norte').replace('Greater Rio de Janeiro','Rio de Janeiro') \\\n",
    ".replace('Brazil','NA').replace('Brazil Metropolitan Area','NA').replace('Paraiba','Paraíba')"
   ]
  },
  {
   "cell_type": "code",
   "execution_count": 403,
   "metadata": {},
   "outputs": [
    {
     "data": {
      "text/plain": [
       "[Text(0, 0, 'São Paulo'),\n",
       " Text(0, 0, 'Minas Gerais'),\n",
       " Text(0, 0, 'Paraná'),\n",
       " Text(0, 0, 'Rio Grande do Sul'),\n",
       " Text(0, 0, 'Rio de Janeiro'),\n",
       " Text(0, 0, 'Santa Catarina'),\n",
       " Text(0, 0, 'Pará'),\n",
       " Text(0, 0, 'Mato Grosso'),\n",
       " Text(0, 0, 'Amazonas'),\n",
       " Text(0, 0, 'Bahia')]"
      ]
     },
     "execution_count": 403,
     "metadata": {},
     "output_type": "execute_result"
    },
    {
     "data": {
      "image/png": "[encoded data removed]",
      "text/plain": [
       "<Figure size 864x432 with 1 Axes>"
      ]
     },
     "metadata": {
      "needs_background": "light"
     },
     "output_type": "display_data"
    }
   ],
   "source": [
    "# 10 estados com mais vagas\n",
    "plt.subplots(figsize=(12,6))\n",
    "aux=df3['Location'].value_counts()[0:10]\n",
    "g=sns.barplot(aux.index,aux.values)\n",
    "g.set_xticklabels(g.get_xticklabels(), rotation=45, horizontalalignment='right')"
   ]
  },
  {
   "cell_type": "code",
   "execution_count": 404,
   "metadata": {},
   "outputs": [],
   "source": [
    "Nordeste=['Maranhão','Piauí','Ceará','Rio Grande do Norte','Paraíba','Pernambuco','Alagoas','Sergipe','Bahia']\n",
    "Sul=['Paraná','Santa Catarina','Rio Grande do Sul']\n",
    "Norte=['Amazonas','Pará','Tocantins','Rondônia','Acre','Amapá','Roraima']\n",
    "Centro_Oeste=['Mato Grosso','Mato Grosso do Sul','Goiás','Distrito Federal','Federal District']\n",
    "Sudeste=['Minas Gerais','Rio de Janeiro','Espírito Santo','São Paulo']\n",
    "\n",
    "df3['Location']=df3['Location'].apply(lambda x: 'Nordeste' if x in Nordeste else x)\n",
    "df3['Location']=df3['Location'].apply(lambda x: 'Sul' if x in Sul else x)\n",
    "df3['Location']=df3['Location'].apply(lambda x: 'Norte' if x in Norte else x)\n",
    "df3['Location']=df3['Location'].apply(lambda x: 'Centro_Oeste' if x in Centro_Oeste else x)\n",
    "df3['Location']=df3['Location'].apply(lambda x: 'Sudeste' if x in Sudeste else x)"
   ]
  },
  {
   "cell_type": "code",
   "execution_count": 408,
   "metadata": {},
   "outputs": [
    {
     "data": {
      "text/plain": [
       "[Text(0, 0, 'Sudeste'),\n",
       " Text(0, 0, 'Sul'),\n",
       " Text(0, 0, 'Nordeste'),\n",
       " Text(0, 0, 'Centro_Oeste'),\n",
       " Text(0, 0, 'Norte')]"
      ]
     },
     "execution_count": 408,
     "metadata": {},
     "output_type": "execute_result"
    },
    {
     "data": {
      "image/png": "[encoded data removed]",
      "text/plain": [
       "<Figure size 864x432 with 1 Axes>"
      ]
     },
     "metadata": {
      "needs_background": "light"
     },
     "output_type": "display_data"
    }
   ],
   "source": [
    "# Distribuição de vagas nos estados\n",
    "plt.subplots(figsize=(12,6))\n",
    "aux=df3['Location'].value_counts()[0:5]\n",
    "g=sns.barplot(aux.index,aux.values)\n",
    "g.set_xticklabels(g.get_xticklabels(), rotation=45, horizontalalignment='right')"
   ]
  },
  {
   "cell_type": "markdown",
   "metadata": {},
   "source": [
    "## Function"
   ]
  },
  {
   "cell_type": "code",
   "execution_count": 363,
   "metadata": {},
   "outputs": [],
   "source": [
    "df2=pd.DataFrame()"
   ]
  },
  {
   "cell_type": "code",
   "execution_count": 364,
   "metadata": {},
   "outputs": [],
   "source": [
    "df2['Project Management']=df['Function'].apply(lambda x: 1 if 'Project Management' in x else 0)\n",
    "df2['Engineering']=df['Function'].apply(lambda x: 1 if 'Engineering' in x else 0)\n",
    "df2['Information Technology']=df['Function'].apply(lambda x: 1 if 'Information Technology' in x else 0)\n",
    "df2['Management']=df['Function'].apply(lambda x: 1 if 'Management' in x else 0)\n",
    "df2['Education']=df['Function'].apply(lambda x: 1 if 'Education' in x else 0)\n",
    "df2['Other']=df['Function'].apply(lambda x: 1 if 'Other' in x else 0)\n",
    "df2['Business Development']=df['Function'].apply(lambda x: 1 if 'Business Development' in x else 0)\n",
    "df2['Sales']=df['Function'].apply(lambda x: 1 if 'Sales' in x else 0)\n",
    "df2['Quality Assurance']=df['Function'].apply(lambda x: 1 if 'Quality Assurance' in x else 0)\n",
    "df2['Administrative']=df['Function'].apply(lambda x: 1 if 'Administrative' in x else 0)\n",
    "df2['DesignArt/Creative']=df['Function'].apply(lambda x: 1 if 'DesignArt/Creative' in x else 0)\n",
    "df2['Purchasing']=df['Function'].apply(lambda x: 1 if 'Purchasing' in x else 0)\n",
    "df2['Supply Chain']=df['Function'].apply(lambda x: 1 if 'Supply Chain' in x else 0)\n",
    "df2['Manufacturing']=df['Function'].apply(lambda x: 1 if 'Manufacturing' in x else 0)\n",
    "df2['Production']=df['Function'].apply(lambda x: 1 if 'Production' in x else 0)\n",
    "df2['Research']=df['Function'].apply(lambda x: 1 if 'Research' in x else 0)\n",
    "df2['Management']=df['Function'].apply(lambda x: 1 if (('Management' in x) and ('Project' not in x)) else 0)\n",
    "df2['Analyst']=df['Function'].apply(lambda x: 1 if 'Analyst' in x else 0)"
   ]
  },
  {
   "cell_type": "code",
   "execution_count": 365,
   "metadata": {},
   "outputs": [
    {
     "data": {
      "text/plain": [
       "[Text(0, 0, 'Information Technology'),\n",
       " Text(0, 0, 'Engineering'),\n",
       " Text(0, 0, 'Management'),\n",
       " Text(0, 0, 'Manufacturing'),\n",
       " Text(0, 0, 'Sales'),\n",
       " Text(0, 0, 'Education'),\n",
       " Text(0, 0, 'Other'),\n",
       " Text(0, 0, 'Business Development'),\n",
       " Text(0, 0, 'Quality Assurance'),\n",
       " Text(0, 0, 'Project Management'),\n",
       " Text(0, 0, 'Administrative'),\n",
       " Text(0, 0, 'DesignArt/Creative'),\n",
       " Text(0, 0, 'Supply Chain'),\n",
       " Text(0, 0, 'Purchasing'),\n",
       " Text(0, 0, 'Production'),\n",
       " Text(0, 0, 'Analyst'),\n",
       " Text(0, 0, 'Research')]"
      ]
     },
     "execution_count": 365,
     "metadata": {},
     "output_type": "execute_result"
    },
    {
     "data": {
      "image/png": "[encoded data removed]",
      "text/plain": [
       "<Figure size 864x432 with 1 Axes>"
      ]
     },
     "metadata": {
      "needs_background": "light"
     },
     "output_type": "display_data"
    }
   ],
   "source": [
    "plt.subplots(figsize=(12,6))\n",
    "aux=df2.sum().sort_values(ascending=False)\n",
    "g=sns.barplot(aux.index,aux.values)\n",
    "g.set_xticklabels(g.get_xticklabels(), rotation=45, horizontalalignment='right')"
   ]
  },
  {
   "cell_type": "code",
   "execution_count": 113,
   "metadata": {},
   "outputs": [],
   "source": [
    "# plt.subplots(figsize=(20,15))\n",
    "# sns.heatmap(df.corr(),annot=True)"
   ]
  },
  {
   "cell_type": "markdown",
   "metadata": {},
   "source": [
    "## Industry"
   ]
  },
  {
   "cell_type": "code",
   "execution_count": 329,
   "metadata": {},
   "outputs": [],
   "source": [
    "df1=pd.DataFrame()"
   ]
  },
  {
   "cell_type": "code",
   "execution_count": 330,
   "metadata": {},
   "outputs": [],
   "source": [
    "df1['Staffing and Recruiting']=df['Industry'].apply(lambda x: True if 'Information Technology and Services' in x else 0)\n",
    "df1['Staffing and Recruiting']=df['Industry'].apply(lambda x: True if 'Staffing and Recruiting' in x else 0)\n",
    "df1['Staffing and Recruiting']=df['Industry'].apply(lambda x: True if 'Human Resources' in x else 0)\n",
    "\n",
    "df1['Food Production']=df['Industry'].apply(lambda x: True if 'Food & Beverages' in x else 0)\n",
    "df1['Food Production']=df['Industry'].apply(lambda x: True if 'Food Production' in x else 0)\n",
    "\n",
    "df1['Mechanical or Industrial Engineering']=df['Industry'].apply(lambda x: True if 'Mechanical or Industrial Engineering' in x else 0)\n",
    "\n",
    "df1['Management Consulting']=df['Industry'].apply(lambda x: True if 'Management Consulting' in x else 0)\n",
    "\n",
    "df1['Civil Engineering']=df['Industry'].apply(lambda x: True if 'Civil Engineering' in x else 0)\n",
    "df1['Civil Engineering']=df['Industry'].apply(lambda x: True if 'Construction' in x else 0)\n",
    "\n",
    "df1['Industrial Automation']=df['Industry'].apply(lambda x: True if 'Industrial Automation' in x else 0)\n",
    "df1['Electrical/Electronic Manufacturing']=df['Industry'].apply(lambda x: True if 'Electrical/Electronic Manufacturing' in x else 0)\n",
    "df1['Mining & Metals']=df['Industry'].apply(lambda x: True if 'Mining & Metals' in x else 0)\n",
    "df1['Automotive']=df['Industry'].apply(lambda x: True if 'Automotive' in x else 0)\n",
    "df1['Airlines/AviationAviation & Aerospace']=df['Industry'].apply(lambda x: True if 'Airlines/AviationAviation & Aerospace' in x else 0)\n",
    "df1['Paper & Forest Products']=df['Industry'].apply(lambda x: True if 'Paper & Forest Products' in x else 0)\n",
    "df1['Renewables & Environment']=df['Industry'].apply(lambda x: True if 'Renewables & Environment' in x else 0)\n",
    "df1['Oil & Energy']=df['Industry'].apply(lambda x: True if 'Oil & Energy' in x else 0)\n"
   ]
  },
  {
   "cell_type": "code",
   "execution_count": 362,
   "metadata": {
    "scrolled": false
   },
   "outputs": [
    {
     "data": {
      "text/plain": [
       "[Text(0, 0, 'Staffing and Recruiting'),\n",
       " Text(0, 0, 'Mechanical or Industrial Engineering'),\n",
       " Text(0, 0, 'Electrical/Electronic Manufacturing'),\n",
       " Text(0, 0, 'Civil Engineering'),\n",
       " Text(0, 0, 'Management Consulting'),\n",
       " Text(0, 0, 'Industrial Automation'),\n",
       " Text(0, 0, 'Renewables & Environment'),\n",
       " Text(0, 0, 'Food Production'),\n",
       " Text(0, 0, 'Oil & Energy'),\n",
       " Text(0, 0, 'Automotive'),\n",
       " Text(0, 0, 'Mining & Metals'),\n",
       " Text(0, 0, 'Paper & Forest Products'),\n",
       " Text(0, 0, 'Airlines/AviationAviation & Aerospace')]"
      ]
     },
     "execution_count": 362,
     "metadata": {},
     "output_type": "execute_result"
    },
    {
     "data": {
      "image/png": "[encoded data removed]",
      "text/plain": [
       "<Figure size 864x432 with 1 Axes>"
      ]
     },
     "metadata": {
      "needs_background": "light"
     },
     "output_type": "display_data"
    }
   ],
   "source": [
    "plt.subplots(figsize=(12,6))\n",
    "aux=df1.sum().sort_values(ascending=False)\n",
    "g=sns.barplot(aux.index,aux.values)\n",
    "g.set_xticklabels(g.get_xticklabels(), rotation=45, horizontalalignment='right')"
   ]
  },
  {
   "cell_type": "markdown",
   "metadata": {},
   "source": [
    "## Description"
   ]
  },
  {
   "cell_type": "code",
   "execution_count": 279,
   "metadata": {},
   "outputs": [],
   "source": [
    "df['description_length'] = df['Description'].apply(len)"
   ]
  },
  {
   "cell_type": "code",
   "execution_count": null,
   "metadata": {},
   "outputs": [],
   "source": [
    "df['description_length'].describe()"
   ]
  },
  {
   "cell_type": "code",
   "execution_count": 282,
   "metadata": {},
   "outputs": [
    {
     "data": {
      "text/plain": [
       "<matplotlib.axes._subplots.AxesSubplot at 0x6dee7838c8>"
      ]
     },
     "execution_count": 282,
     "metadata": {},
     "output_type": "execute_result"
    },
    {
     "data": {
      "image/png": "[encoded data removed]",
      "text/plain": [
       "<Figure size 432x288 with 1 Axes>"
      ]
     },
     "metadata": {
      "needs_background": "light"
     },
     "output_type": "display_data"
    }
   ],
   "source": [
    "# Distribuição do número de caracteres da descrição da vaga\n",
    "df['description_length'].plot(bins=50, kind='hist') "
   ]
  },
  {
   "cell_type": "code",
   "execution_count": 283,
   "metadata": {},
   "outputs": [],
   "source": [
    "import string"
   ]
  },
  {
   "cell_type": "code",
   "execution_count": 285,
   "metadata": {},
   "outputs": [
    {
     "data": {
      "text/plain": [
       "'!\"#$%&\\'()*+,-./:;<=>?@[\\\\]^_`{|}~'"
      ]
     },
     "execution_count": 285,
     "metadata": {},
     "output_type": "execute_result"
    }
   ],
   "source": [
    "string.punctuation"
   ]
  },
  {
   "cell_type": "markdown",
   "metadata": {},
   "source": [
    "substituir - / por espaço\n",
    "tirar pontuação, incluindo parenteses\n",
    "tirar (a)"
   ]
  },
  {
   "cell_type": "code",
   "execution_count": 290,
   "metadata": {},
   "outputs": [
    {
     "data": {
      "text/html": [
       "<div>\n",
       "<style scoped>\n",
       "    .dataframe tbody tr th:only-of-type {\n",
       "        vertical-align: middle;\n",
       "    }\n",
       "\n",
       "    .dataframe tbody tr th {\n",
       "        vertical-align: top;\n",
       "    }\n",
       "\n",
       "    .dataframe thead th {\n",
       "        text-align: right;\n",
       "    }\n",
       "</style>\n",
       "<table border=\"1\" class=\"dataframe\">\n",
       "  <thead>\n",
       "    <tr style=\"text-align: right;\">\n",
       "      <th></th>\n",
       "      <th>Job ID</th>\n",
       "      <th>Date</th>\n",
       "      <th>Company Name</th>\n",
       "      <th>Post</th>\n",
       "      <th>Location</th>\n",
       "      <th>Description</th>\n",
       "      <th>Level</th>\n",
       "      <th>Type</th>\n",
       "      <th>Function</th>\n",
       "      <th>Industry</th>\n",
       "      <th>length</th>\n",
       "    </tr>\n",
       "  </thead>\n",
       "  <tbody>\n",
       "    <tr>\n",
       "      <th>594</th>\n",
       "      <td>2021440488</td>\n",
       "      <td>2020-09-06</td>\n",
       "      <td>KLL EQUIPAMENTOS PARA TRANSPORTE SA</td>\n",
       "      <td>Desenhista Projetista Pleno</td>\n",
       "      <td>Sul</td>\n",
       "      <td>Vaga de Desenhista Projetista Pleno em Rio Gra...</td>\n",
       "      <td>Entry level</td>\n",
       "      <td>Full-time</td>\n",
       "      <td>DesignArt/CreativeInformation Technology</td>\n",
       "      <td>Civil EngineeringMechanical or Industrial Engi...</td>\n",
       "      <td>736</td>\n",
       "    </tr>\n",
       "    <tr>\n",
       "      <th>382</th>\n",
       "      <td>2016415382</td>\n",
       "      <td>2020-08-23</td>\n",
       "      <td>GD9 Consultoria em Recursos Humanos</td>\n",
       "      <td>Assistente de Engenharia - Araucária</td>\n",
       "      <td>Sul</td>\n",
       "      <td>Atender clientes internos via telefone, e-mail...</td>\n",
       "      <td>Entry level</td>\n",
       "      <td>Full-time</td>\n",
       "      <td>EngineeringInformation Technology</td>\n",
       "      <td>Information Technology and ServicesStaffing an...</td>\n",
       "      <td>1011</td>\n",
       "    </tr>\n",
       "    <tr>\n",
       "      <th>329</th>\n",
       "      <td>2160137593</td>\n",
       "      <td>2020-09-09</td>\n",
       "      <td>Thomas Técnica Coml. Elementos de Transmissão ...</td>\n",
       "      <td>Representante Comercial</td>\n",
       "      <td>Minas Gerais</td>\n",
       "      <td>Empresade atuação no mercado, busca representa...</td>\n",
       "      <td>Entry level</td>\n",
       "      <td>Full-time</td>\n",
       "      <td>SalesManagement</td>\n",
       "      <td>Civil EngineeringHigher EducationMechanical or...</td>\n",
       "      <td>435</td>\n",
       "    </tr>\n",
       "    <tr>\n",
       "      <th>447</th>\n",
       "      <td>2002995765</td>\n",
       "      <td>2020-08-21</td>\n",
       "      <td>Liebherr Brasil Indústria e Comércio de Máquin...</td>\n",
       "      <td>ENGENHEIRO DE SISTEMAS</td>\n",
       "      <td>São Paulo</td>\n",
       "      <td>Sistemas Autônomos - Engenharia de Produto / M...</td>\n",
       "      <td>Entry level</td>\n",
       "      <td>Full-time</td>\n",
       "      <td>Information Technology</td>\n",
       "      <td>Electrical/Electronic ManufacturingCivil Engin...</td>\n",
       "      <td>1071</td>\n",
       "    </tr>\n",
       "    <tr>\n",
       "      <th>95</th>\n",
       "      <td>2008184285</td>\n",
       "      <td>2020-07-31</td>\n",
       "      <td>ISS Brasil</td>\n",
       "      <td>Estagiário de Projetos e Processos</td>\n",
       "      <td>Minas Gerais</td>\n",
       "      <td>A ISS é feita de pessoas talentosas, competent...</td>\n",
       "      <td>Internship</td>\n",
       "      <td>Full-time</td>\n",
       "      <td>EducationTraining</td>\n",
       "      <td>Consumer Services</td>\n",
       "      <td>1291</td>\n",
       "    </tr>\n",
       "    <tr>\n",
       "      <th>113</th>\n",
       "      <td>2023707386</td>\n",
       "      <td>2020-09-11</td>\n",
       "      <td>Delta Electronics Brasil</td>\n",
       "      <td>Projetista mecânico</td>\n",
       "      <td>São Paulo</td>\n",
       "      <td>Direct message the job poster from Delta Elect...</td>\n",
       "      <td>Mid-Senior level</td>\n",
       "      <td>Full-time</td>\n",
       "      <td>EngineeringInformation Technology</td>\n",
       "      <td>Electrical/Electronic Manufacturing</td>\n",
       "      <td>115</td>\n",
       "    </tr>\n",
       "    <tr>\n",
       "      <th>184</th>\n",
       "      <td>2163177525</td>\n",
       "      <td>2020-09-15</td>\n",
       "      <td>RH Brasil - Campinas</td>\n",
       "      <td>TECNICO DE PRODUCAO</td>\n",
       "      <td>São Paulo</td>\n",
       "      <td>Requisitos: Técnico completo em Mecânico ou Pl...</td>\n",
       "      <td>Entry level</td>\n",
       "      <td>Full-time</td>\n",
       "      <td>ManagementManufacturing</td>\n",
       "      <td>Food &amp; BeveragesStaffing and RecruitingHuman R...</td>\n",
       "      <td>981</td>\n",
       "    </tr>\n",
       "    <tr>\n",
       "      <th>491</th>\n",
       "      <td>2020103937</td>\n",
       "      <td>2020-09-04</td>\n",
       "      <td>LCS - Tecnologia Integrada ao seu Negócio</td>\n",
       "      <td>Assistente De Compras - Ribeirão Preto/ SP</td>\n",
       "      <td>São Paulo</td>\n",
       "      <td>Vaga de Assistente De Compras\\nRibeirão Preto/...</td>\n",
       "      <td>Entry level</td>\n",
       "      <td>Full-time</td>\n",
       "      <td>ManagementManufacturing</td>\n",
       "      <td>Staffing and RecruitingTelecommunicationsHuman...</td>\n",
       "      <td>1242</td>\n",
       "    </tr>\n",
       "    <tr>\n",
       "      <th>493</th>\n",
       "      <td>2019165297</td>\n",
       "      <td>2020-09-03</td>\n",
       "      <td>Jasmine Alimentos</td>\n",
       "      <td>Programador de Manutenção</td>\n",
       "      <td>Sul</td>\n",
       "      <td>Job Description\\n\\nVocê já imaginou trabalhar ...</td>\n",
       "      <td>Entry level</td>\n",
       "      <td>Full-time</td>\n",
       "      <td>EngineeringInformation Technology</td>\n",
       "      <td>Information Technology and ServicesStaffing an...</td>\n",
       "      <td>3081</td>\n",
       "    </tr>\n",
       "    <tr>\n",
       "      <th>570</th>\n",
       "      <td>2160909416</td>\n",
       "      <td>2020-09-12</td>\n",
       "      <td>EngenhariaJob</td>\n",
       "      <td>Projetista Mecânico - Ipatinga</td>\n",
       "      <td>Minas Gerais</td>\n",
       "      <td>Job Description\\n\\nElaborar entregáveis da dis...</td>\n",
       "      <td>Entry level</td>\n",
       "      <td>Full-time</td>\n",
       "      <td>EngineeringInformation Technology</td>\n",
       "      <td>Information Technology and ServicesStaffing an...</td>\n",
       "      <td>536</td>\n",
       "    </tr>\n",
       "  </tbody>\n",
       "</table>\n",
       "</div>"
      ],
      "text/plain": [
       "         Job ID        Date  \\\n",
       "594  2021440488  2020-09-06   \n",
       "382  2016415382  2020-08-23   \n",
       "329  2160137593  2020-09-09   \n",
       "447  2002995765  2020-08-21   \n",
       "95   2008184285  2020-07-31   \n",
       "113  2023707386  2020-09-11   \n",
       "184  2163177525  2020-09-15   \n",
       "491  2020103937  2020-09-04   \n",
       "493  2019165297  2020-09-03   \n",
       "570  2160909416  2020-09-12   \n",
       "\n",
       "                                          Company Name  \\\n",
       "594                KLL EQUIPAMENTOS PARA TRANSPORTE SA   \n",
       "382                GD9 Consultoria em Recursos Humanos   \n",
       "329  Thomas Técnica Coml. Elementos de Transmissão ...   \n",
       "447  Liebherr Brasil Indústria e Comércio de Máquin...   \n",
       "95                                          ISS Brasil   \n",
       "113                           Delta Electronics Brasil   \n",
       "184                               RH Brasil - Campinas   \n",
       "491          LCS - Tecnologia Integrada ao seu Negócio   \n",
       "493                                  Jasmine Alimentos   \n",
       "570                                      EngenhariaJob   \n",
       "\n",
       "                                           Post      Location  \\\n",
       "594                 Desenhista Projetista Pleno           Sul   \n",
       "382        Assistente de Engenharia - Araucária           Sul   \n",
       "329                     Representante Comercial  Minas Gerais   \n",
       "447                      ENGENHEIRO DE SISTEMAS     São Paulo   \n",
       "95           Estagiário de Projetos e Processos  Minas Gerais   \n",
       "113                         Projetista mecânico     São Paulo   \n",
       "184                         TECNICO DE PRODUCAO     São Paulo   \n",
       "491  Assistente De Compras - Ribeirão Preto/ SP     São Paulo   \n",
       "493                   Programador de Manutenção           Sul   \n",
       "570              Projetista Mecânico - Ipatinga  Minas Gerais   \n",
       "\n",
       "                                           Description             Level  \\\n",
       "594  Vaga de Desenhista Projetista Pleno em Rio Gra...       Entry level   \n",
       "382  Atender clientes internos via telefone, e-mail...       Entry level   \n",
       "329  Empresade atuação no mercado, busca representa...       Entry level   \n",
       "447  Sistemas Autônomos - Engenharia de Produto / M...       Entry level   \n",
       "95   A ISS é feita de pessoas talentosas, competent...        Internship   \n",
       "113  Direct message the job poster from Delta Elect...  Mid-Senior level   \n",
       "184  Requisitos: Técnico completo em Mecânico ou Pl...       Entry level   \n",
       "491  Vaga de Assistente De Compras\\nRibeirão Preto/...       Entry level   \n",
       "493  Job Description\\n\\nVocê já imaginou trabalhar ...       Entry level   \n",
       "570  Job Description\\n\\nElaborar entregáveis da dis...       Entry level   \n",
       "\n",
       "          Type                                  Function  \\\n",
       "594  Full-time  DesignArt/CreativeInformation Technology   \n",
       "382  Full-time         EngineeringInformation Technology   \n",
       "329  Full-time                           SalesManagement   \n",
       "447  Full-time                    Information Technology   \n",
       "95   Full-time                         EducationTraining   \n",
       "113  Full-time         EngineeringInformation Technology   \n",
       "184  Full-time                   ManagementManufacturing   \n",
       "491  Full-time                   ManagementManufacturing   \n",
       "493  Full-time         EngineeringInformation Technology   \n",
       "570  Full-time         EngineeringInformation Technology   \n",
       "\n",
       "                                              Industry  length  \n",
       "594  Civil EngineeringMechanical or Industrial Engi...     736  \n",
       "382  Information Technology and ServicesStaffing an...    1011  \n",
       "329  Civil EngineeringHigher EducationMechanical or...     435  \n",
       "447  Electrical/Electronic ManufacturingCivil Engin...    1071  \n",
       "95                                   Consumer Services    1291  \n",
       "113                Electrical/Electronic Manufacturing     115  \n",
       "184  Food & BeveragesStaffing and RecruitingHuman R...     981  \n",
       "491  Staffing and RecruitingTelecommunicationsHuman...    1242  \n",
       "493  Information Technology and ServicesStaffing an...    3081  \n",
       "570  Information Technology and ServicesStaffing an...     536  "
      ]
     },
     "execution_count": 290,
     "metadata": {},
     "output_type": "execute_result"
    }
   ],
   "source": [
    "df.sample(10)"
   ]
  },
  {
   "cell_type": "code",
   "execution_count": 291,
   "metadata": {},
   "outputs": [],
   "source": [
    "stopwords = open('stopwords_pt.txt', encoding='utf-8-sig', mode='r').read()"
   ]
  },
  {
   "cell_type": "code",
   "execution_count": 293,
   "metadata": {},
   "outputs": [],
   "source": [
    "stopwords=stopwords.split('\\n')"
   ]
  },
  {
   "cell_type": "code",
   "execution_count": 297,
   "metadata": {},
   "outputs": [
    {
     "data": {
      "text/plain": [
       "['a',\n",
       " 'acerca',\n",
       " 'adeus',\n",
       " 'agora',\n",
       " 'ainda',\n",
       " 'alem',\n",
       " 'algmas',\n",
       " 'algo',\n",
       " 'algumas',\n",
       " 'alguns']"
      ]
     },
     "execution_count": 297,
     "metadata": {},
     "output_type": "execute_result"
    }
   ],
   "source": [
    "stopwords[0:10] ##show some stopwords"
   ]
  },
  {
   "cell_type": "code",
   "execution_count": null,
   "metadata": {},
   "outputs": [],
   "source": []
  }
 ],
 "metadata": {
  "kernelspec": {
   "display_name": "Python 3",
   "language": "python",
   "name": "python3"
  },
  "language_info": {
   "codemirror_mode": {
    "name": "ipython",
    "version": 3
   },
   "file_extension": ".py",
   "mimetype": "text/x-python",
   "name": "python",
   "nbconvert_exporter": "python",
   "pygments_lexer": "ipython3",
   "version": "3.7.6"
  },
  "toc": {
   "base_numbering": 1,
   "nav_menu": {},
   "number_sections": true,
   "sideBar": true,
   "skip_h1_title": false,
   "title_cell": "Table of Contents",
   "title_sidebar": "Contents",
   "toc_cell": false,
   "toc_position": {},
   "toc_section_display": true,
   "toc_window_display": false
  }
 },
 "nbformat": 4,
 "nbformat_minor": 4
}
